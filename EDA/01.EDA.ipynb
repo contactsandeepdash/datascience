{
 "cells": [
  {
   "cell_type": "code",
   "execution_count": 1,
   "metadata": {},
   "outputs": [],
   "source": [
    "import warnings\n",
    "warnings.filterwarnings(\"ignore\")\n",
    "\n",
    "import sys\n",
    "if not sys.warnoptions:\n",
    "    import warnings\n",
    "    warnings.simplefilter(\"ignore\")"
   ]
  },
  {
   "cell_type": "markdown",
   "metadata": {},
   "source": [
    "## Handling missing values\n",
    "Imputing missing values\n",
    " - Numerical variable - Mean/Median\n",
    " - Categorical variable - Mode\n",
    "\n",
    "Regression model imputation (numerical variable)\n",
    "KNN model imputation (categorical variable)\n",
    "\n",
    "**Outliers** are extreme values that fall a long way outside of the other observations\n",
    "3 types - Global, contextual, collective\n",
    "\n",
    "## Variable Formatting\n",
    "- Encoding - for categorical variable - converting categorical to numerical types\n",
    "\n",
    "example: \n",
    "1. Label Encoder\n",
    "2. Ordinal Encoding\n",
    "3. One hot encoding\n",
    "\n",
    "- Transformation - for numerical variable - converting skewed distribution to normal one, minimizing range and outliers\n",
    "\n",
    "example:\n",
    "1. Log transformation\n",
    "2. Scaling\n"
   ]
  },
  {
   "cell_type": "markdown",
   "metadata": {},
   "source": [
    "## Why we need to scale data?\n",
    "\n",
    "- Input variables may have different units (e.g., feet, KM and Hours)\n",
    "- Differnces in the scales across input variables may increase difficulty of the problem being modeled\n",
    "- Some algorithms may benefit from normalizing the input data\n",
    "\n",
    "### Types of scaling\n",
    "1. **Normalization**\n",
    "    - Rescaling of the data from the original range so that all values are within the range of 0 and 1; also known as MinMax scaler\n",
    "    - accurately estiamte the minimum and maximum observable values\n",
    "    - formula, y = (x - min) / (max - min)\n",
    "    - import MinMaxScaler from sklearn.preprocessing for Normalization\n",
    "2. **Standardization**\n",
    "    - Standarding a dataset involves rescaling the distribution of values so that the mean of observed values is 0 and the standard deviation is 1\n",
    "    - This assumes that the observations fit a normal distribution\n",
    "    - formula, y = (x - mean) / standard_deviation\n",
    "    - import StandardScaler from sklearn.preprocessing for Standardization\n",
    "    \n"
   ]
  },
  {
   "cell_type": "code",
   "execution_count": null,
   "metadata": {},
   "outputs": [],
   "source": []
  }
 ],
 "metadata": {
  "kernelspec": {
   "display_name": "base",
   "language": "python",
   "name": "python3"
  },
  "language_info": {
   "codemirror_mode": {
    "name": "ipython",
    "version": 3
   },
   "file_extension": ".py",
   "mimetype": "text/x-python",
   "name": "python",
   "nbconvert_exporter": "python",
   "pygments_lexer": "ipython3",
   "version": "3.11.5"
  }
 },
 "nbformat": 4,
 "nbformat_minor": 2
}
