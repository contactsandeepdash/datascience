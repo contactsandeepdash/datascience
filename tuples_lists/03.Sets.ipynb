{
 "cells": [
  {
   "cell_type": "markdown",
   "metadata": {},
   "source": [
    "# Sets\n",
    "### Set is denoted by {} and it contains only **unique** elements"
   ]
  },
  {
   "cell_type": "code",
   "execution_count": 5,
   "metadata": {},
   "outputs": [
    {
     "name": "stdout",
     "output_type": "stream",
     "text": [
      "{1, 2, 3, 4, 5}\n",
      "<class 'set'>\n"
     ]
    }
   ],
   "source": [
    "# sets\n",
    "# 1. Write a Python program to create a set.\n",
    "set1 = {1, 2, 3, 4, 5}\n",
    "print(set1)\n",
    "print(type(set1))"
   ]
  },
  {
   "cell_type": "code",
   "execution_count": 6,
   "metadata": {},
   "outputs": [
    {
     "name": "stdout",
     "output_type": "stream",
     "text": [
      "{1, 2, 3, 4, 5}\n",
      "<class 'set'>\n"
     ]
    }
   ],
   "source": [
    "# Creating a set from a list\n",
    "set2 = set([1, 2, 3, 4, 5])  # Creating a set from a list\n",
    "print(set2)\n",
    "print(type(set2))"
   ]
  },
  {
   "cell_type": "code",
   "execution_count": 7,
   "metadata": {},
   "outputs": [
    {
     "name": "stdout",
     "output_type": "stream",
     "text": [
      "{1, 2, 3, 4, 5}\n",
      "<class 'set'>\n"
     ]
    }
   ],
   "source": [
    "# Creating a set from a tuple\n",
    "set3 = set((1, 2, 3, 4, 5))  # Creating a set from a tuple\n",
    "print(set3)\n",
    "print(type(set3))"
   ]
  },
  {
   "cell_type": "code",
   "execution_count": 8,
   "metadata": {},
   "outputs": [
    {
     "name": "stdout",
     "output_type": "stream",
     "text": [
      "{'e', 'H', 'o', 'l'}\n",
      "<class 'set'>\n"
     ]
    }
   ],
   "source": [
    "# Creating a set from a string\n",
    "set4 = set(\"Hello\")  # Creating a set from a string\n",
    "print(set4)\n",
    "print(type(set4))"
   ]
  },
  {
   "cell_type": "code",
   "execution_count": 9,
   "metadata": {},
   "outputs": [
    {
     "name": "stdout",
     "output_type": "stream",
     "text": [
      "set()\n",
      "<class 'set'>\n"
     ]
    }
   ],
   "source": [
    "# Creating an empty set\n",
    "set5 = set()  # Creating an empty set\n",
    "print(set5)\n",
    "print(type(set5))"
   ]
  },
  {
   "cell_type": "code",
   "execution_count": 10,
   "metadata": {},
   "outputs": [
    {
     "name": "stdout",
     "output_type": "stream",
     "text": [
      "{1, 2, 3, 4, 5}\n",
      "<class 'set'>\n"
     ]
    }
   ],
   "source": [
    "# Creating a set from another set\n",
    "set6 = set({1, 2, 3, 4, 5})  # Creating a set from another set\n",
    "print(set6)\n",
    "print(type(set6))"
   ]
  },
  {
   "cell_type": "code",
   "execution_count": 11,
   "metadata": {},
   "outputs": [],
   "source": [
    "# add operation on Set with an example\n",
    "def add_set_example():\n",
    "    \"\"\"\n",
    "    Demonstrates the add operation on a Set in Python.\n",
    "    \"\"\"\n",
    "    fruits = {\"apple\", \"banana\", \"cherry\"}\n",
    "    print(\"Initial Set:\", fruits)\n",
    "\n",
    "    # Adding an element to the Set\n",
    "    fruits.add(\"orange\")\n",
    "    print(\"Set after adding 'orange':\", fruits)\n",
    "\n",
    "    # Adding an element that already exists (no effect)\n",
    "    fruits.add(\"apple\")\n",
    "    print(\"Set after adding 'apple' again:\", fruits)"
   ]
  },
  {
   "cell_type": "code",
   "execution_count": 12,
   "metadata": {},
   "outputs": [
    {
     "name": "stdout",
     "output_type": "stream",
     "text": [
      "Initial Set: {'apple', 'banana', 'cherry'}\n",
      "Set after adding 'orange': {'apple', 'banana', 'orange', 'cherry'}\n",
      "Set after adding 'apple' again: {'apple', 'banana', 'orange', 'cherry'}\n"
     ]
    }
   ],
   "source": [
    "add_set_example()"
   ]
  },
  {
   "cell_type": "code",
   "execution_count": null,
   "metadata": {},
   "outputs": [],
   "source": []
  }
 ],
 "metadata": {
  "kernelspec": {
   "display_name": "base",
   "language": "python",
   "name": "python3"
  },
  "language_info": {
   "codemirror_mode": {
    "name": "ipython",
    "version": 3
   },
   "file_extension": ".py",
   "mimetype": "text/x-python",
   "name": "python",
   "nbconvert_exporter": "python",
   "pygments_lexer": "ipython3",
   "version": "3.11.5"
  }
 },
 "nbformat": 4,
 "nbformat_minor": 2
}
