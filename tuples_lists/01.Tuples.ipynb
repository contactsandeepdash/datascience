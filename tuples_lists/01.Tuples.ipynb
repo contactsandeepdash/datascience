{
 "cells": [
  {
   "cell_type": "markdown",
   "metadata": {},
   "source": [
    "# Tuples\n",
    "## Tuples are similar to lists but they are immutable, meaning their values cannot be changed after they are created.\n",
    "## Tuples are defined using parentheses () instead of square brackets [].\n",
    "\n",
    "### Tupes are n ordered sequence"
   ]
  },
  {
   "cell_type": "code",
   "execution_count": 2,
   "metadata": {},
   "outputs": [],
   "source": [
    "# Creating a tuple\n",
    "my_tuple = (1, 2, 3, 4, 5)"
   ]
  },
  {
   "cell_type": "code",
   "execution_count": 6,
   "metadata": {},
   "outputs": [
    {
     "data": {
      "text/plain": [
       "tuple"
      ]
     },
     "execution_count": 6,
     "metadata": {},
     "output_type": "execute_result"
    }
   ],
   "source": [
    "# Tuple can contain different data types.\n",
    "tuple1 = (1, \"Hello\", 3.4, True)\n",
    "type(tuple1)"
   ]
  },
  {
   "cell_type": "code",
   "execution_count": 7,
   "metadata": {},
   "outputs": [],
   "source": [
    "# Accessing items from a tuple starts with an index 0.\n",
    "def access_tuple(tuple_data, index):\n",
    "    \"\"\"Accesses an item from a tuple based on the given index\"\"\"\n",
    "    try:\n",
    "        item = tuple_data[index]\n",
    "        return item\n",
    "    except IndexError:\n",
    "        print(\"Index out of range\")\n",
    "        return None\n"
   ]
  },
  {
   "cell_type": "code",
   "execution_count": 11,
   "metadata": {},
   "outputs": [
    {
     "name": "stdout",
     "output_type": "stream",
     "text": [
      "3.4\n"
     ]
    }
   ],
   "source": [
    "print(access_tuple(tuple1,2)) # type: ignore"
   ]
  },
  {
   "cell_type": "code",
   "execution_count": 14,
   "metadata": {},
   "outputs": [
    {
     "name": "stdout",
     "output_type": "stream",
     "text": [
      "1  |  1\n",
      "Hello  |  Hello\n",
      "3.4  |  3.4\n",
      "True  |  True\n"
     ]
    }
   ],
   "source": [
    "# Tuple supports negative indexing\n",
    "print(access_tuple(tuple1,0), \" | \", access_tuple(tuple1, -4)) # type: ignore\n",
    "print(access_tuple(tuple1,1), \" | \", access_tuple(tuple1, -3)) # type: ignore\n",
    "print(access_tuple(tuple1,2), \" | \", access_tuple(tuple1, -2)) # type: ignore\n",
    "print(access_tuple(tuple1,3), \" | \", access_tuple(tuple1, -1)) # type: ignore"
   ]
  },
  {
   "cell_type": "code",
   "execution_count": null,
   "metadata": {},
   "outputs": [],
   "source": []
  }
 ],
 "metadata": {
  "kernelspec": {
   "display_name": "base",
   "language": "python",
   "name": "python3"
  },
  "language_info": {
   "codemirror_mode": {
    "name": "ipython",
    "version": 3
   },
   "file_extension": ".py",
   "mimetype": "text/x-python",
   "name": "python",
   "nbconvert_exporter": "python",
   "pygments_lexer": "ipython3",
   "version": "3.11.5"
  }
 },
 "nbformat": 4,
 "nbformat_minor": 2
}
