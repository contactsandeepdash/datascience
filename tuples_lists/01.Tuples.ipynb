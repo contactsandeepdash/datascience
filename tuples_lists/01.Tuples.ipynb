{
 "cells": [
  {
   "cell_type": "markdown",
   "metadata": {},
   "source": [
    "# Tuples\n",
    "### Tuples are similar to lists but they are **immutable**, meaning their values cannot be changed after they are created.\n",
    "### Tuples are defined using parentheses () instead of square brackets [].\n",
    "\n",
    "### Tupes are an ordered sequence"
   ]
  },
  {
   "cell_type": "code",
   "execution_count": 2,
   "metadata": {},
   "outputs": [],
   "source": [
    "# Creating a tuple\n",
    "my_tuple = (1, 2, 3, 4, 5)"
   ]
  },
  {
   "cell_type": "code",
   "execution_count": 6,
   "metadata": {},
   "outputs": [
    {
     "data": {
      "text/plain": [
       "tuple"
      ]
     },
     "execution_count": 6,
     "metadata": {},
     "output_type": "execute_result"
    }
   ],
   "source": [
    "# Tuple can contain different data types.\n",
    "tuple1 = (1, \"Hello\", 3.4, True)\n",
    "type(tuple1)"
   ]
  },
  {
   "cell_type": "code",
   "execution_count": 7,
   "metadata": {},
   "outputs": [],
   "source": [
    "# Accessing items from a tuple starts with an index 0.\n",
    "def access_tuple(tuple_data, index):\n",
    "    \"\"\"Accesses an item from a tuple based on the given index\"\"\"\n",
    "    try:\n",
    "        item = tuple_data[index]\n",
    "        return item\n",
    "    except IndexError:\n",
    "        print(\"Index out of range\")\n",
    "        return None\n"
   ]
  },
  {
   "cell_type": "code",
   "execution_count": 11,
   "metadata": {},
   "outputs": [
    {
     "name": "stdout",
     "output_type": "stream",
     "text": [
      "3.4\n"
     ]
    }
   ],
   "source": [
    "print(access_tuple(tuple1,2)) # type: ignore"
   ]
  },
  {
   "cell_type": "code",
   "execution_count": 14,
   "metadata": {},
   "outputs": [
    {
     "name": "stdout",
     "output_type": "stream",
     "text": [
      "1  |  1\n",
      "Hello  |  Hello\n",
      "3.4  |  3.4\n",
      "True  |  True\n"
     ]
    }
   ],
   "source": [
    "# Tuple supports negative indexing\n",
    "print(access_tuple(tuple1,0), \" | \", access_tuple(tuple1, -4)) # type: ignore\n",
    "print(access_tuple(tuple1,1), \" | \", access_tuple(tuple1, -3)) # type: ignore\n",
    "print(access_tuple(tuple1,2), \" | \", access_tuple(tuple1, -2)) # type: ignore\n",
    "print(access_tuple(tuple1,3), \" | \", access_tuple(tuple1, -1)) # type: ignore"
   ]
  },
  {
   "cell_type": "code",
   "execution_count": 15,
   "metadata": {},
   "outputs": [],
   "source": [
    "# Concatenate Tuples\n",
    "def concatenate_tuples(tuple1, tuple2):\n",
    "    \"\"\"\n",
    "    Concatenates two tuples into a single tuple.\n",
    "\n",
    "    Args:\n",
    "        tuple1 (tuple): The first tuple.\n",
    "        tuple2 (tuple): The second tuple.\n",
    "\n",
    "    Returns:\n",
    "        tuple: A new tuple containing the concatenated elements.\n",
    "    \"\"\"\n",
    "    return tuple1 + tuple2"
   ]
  },
  {
   "cell_type": "code",
   "execution_count": 20,
   "metadata": {},
   "outputs": [
    {
     "name": "stdout",
     "output_type": "stream",
     "text": [
      "tuple 2 =  (1, 'Hello', 2.3, True)\n",
      "tuple 3 =  (5, 10.2, 'Python', False)\n",
      "Concatenated tuple 2 and tuple 3 =  (1, 'Hello', 2.3, True, 5, 10.2, 'Python', False)\n"
     ]
    }
   ],
   "source": [
    "# Example of concatation of tuples\n",
    "tuple2 = (1, \"Hello\", 2.3, True)\n",
    "tuple3 = (5, 10.2, \"Python\", False)\n",
    "concatenate_tuple = concatenate_tuples(tuple2, tuple3)\n",
    "print(\"tuple 2 = \", str(tuple2))\n",
    "print(\"tuple 3 = \", str(tuple3))\n",
    "print(\"Concatenated tuple 2 and tuple 3 = \", concatenate_tuple)"
   ]
  },
  {
   "cell_type": "code",
   "execution_count": 21,
   "metadata": {},
   "outputs": [],
   "source": [
    "# Length of Tuple\n",
    "def length_of_tuple(tuple_data):\n",
    "    \"\"\"Returns the length of the given tuple\"\"\"\n",
    "    return len(tuple_data)"
   ]
  },
  {
   "cell_type": "code",
   "execution_count": 23,
   "metadata": {},
   "outputs": [
    {
     "name": "stdout",
     "output_type": "stream",
     "text": [
      "length of concatenated tuple = 8\n"
     ]
    }
   ],
   "source": [
    "print(\"length of concatenated tuple = \" + str(length_of_tuple(concatenate_tuple)))"
   ]
  },
  {
   "cell_type": "code",
   "execution_count": 19,
   "metadata": {},
   "outputs": [
    {
     "name": "stdout",
     "output_type": "stream",
     "text": [
      "(2, 3, 4)\n",
      "(1, 2, 3)\n",
      "(3, 4, 5)\n",
      "(1, 2, 3, 4, 5)\n",
      "(1, 3, 5)\n",
      "(5, 4, 3, 2, 1)\n",
      "(5, 3, 1)\n",
      "5\n",
      "3\n",
      "1\n",
      "()\n",
      "(3, 4)\n",
      "(1, 2)\n",
      "()\n",
      "()\n",
      "(3, 2)\n"
     ]
    }
   ],
   "source": [
    "# Slicing tuple with examples\n",
    "my_tuple = (1, 2, 3, 4, 5)\n",
    "print(my_tuple[1:4])  # Output: (2, 3, 4)\n",
    "print(my_tuple[:3])  # Output: (1, 2, 3)\n",
    "print(my_tuple[2:])  # Output: (3, 4, 5)\n",
    "print(my_tuple[:])  # Output: (1, 2, 3, 4, 5)\n",
    "print(my_tuple[::2])  # Output: (1, 3, 5)\n",
    "print(my_tuple[::-1])  # Output: (5, 4, 3, 2, 1)\n",
    "print(my_tuple[::-2])  # Output: (5, 3, 1)\n",
    "print(my_tuple[-1])  # Output: 5\n",
    "print(my_tuple[-3])  # Output: 3\n",
    "print(my_tuple[-5])  # Output: 1\n",
    "print(my_tuple[-1:-3])  # Output: ()\n",
    "print(my_tuple[-3:-1])  # Output: (3, 4)\n",
    "print(my_tuple[-5:-3])  # Output: (1, 2)\n",
    "print(my_tuple[-3:-5])  # Output: ()\n",
    "print(my_tuple[-5:-3:-1])  # Output: (2, 1)\n",
    "print(my_tuple[-3:-5:-1])  # Output: ()"
   ]
  },
  {
   "cell_type": "code",
   "execution_count": 24,
   "metadata": {},
   "outputs": [],
   "source": [
    "# Sorted Tuple\n",
    "def sorted_tuple(tuple_data):\n",
    "    \"\"\"\n",
    "    Returns a sorted tuple from the given tuple.\n",
    "    \"\"\"\n",
    "    sorted_tuple = tuple(sorted(tuple_data))\n",
    "    return sorted_tuple"
   ]
  },
  {
   "cell_type": "code",
   "execution_count": 34,
   "metadata": {},
   "outputs": [
    {
     "name": "stdout",
     "output_type": "stream",
     "text": [
      "(1, 2, 3, 4, 5)\n"
     ]
    }
   ],
   "source": [
    "# Sorted Tuple example\n",
    "tuple4 = (3, 4, 5, 1, 2)\n",
    "print(sorted_tuple(tuple4))"
   ]
  },
  {
   "cell_type": "code",
   "execution_count": 28,
   "metadata": {},
   "outputs": [],
   "source": [
    "# Reverse tuple\n",
    "def reverse_tuple(tup):\n",
    "    \"\"\"\n",
    "    Reverses the order of elements in a tuple.\n",
    "\n",
    "    Args:\n",
    "        tup (tuple): The tuple to be reversed.\n",
    "\n",
    "    Returns:\n",
    "        tuple: A new tuple with the elements in reverse order.\n",
    "    \"\"\"\n",
    "    return tuple(reversed(tup))"
   ]
  },
  {
   "cell_type": "code",
   "execution_count": 33,
   "metadata": {},
   "outputs": [
    {
     "name": "stdout",
     "output_type": "stream",
     "text": [
      "Reverse Tuple = (2, 1, 5, 4, 3)\n"
     ]
    }
   ],
   "source": [
    "print(\"Reverse Tuple = \" + str(reverse_tuple(tuple4)))"
   ]
  },
  {
   "cell_type": "code",
   "execution_count": 30,
   "metadata": {},
   "outputs": [],
   "source": [
    "# Reverse Sorted tuple\n",
    "def reverse_sorted_tuple(tup):\n",
    "    \"\"\"\n",
    "    Returns a sorted tuple in descending order.\n",
    "\n",
    "    Args:\n",
    "        tup (tuple): The input tuple to be sorted in descending order.\n",
    "\n",
    "    Returns:\n",
    "        tuple: A new tuple containing the elements of the input tuple sorted in descending order.\n",
    "    \"\"\"\n",
    "    return tuple(sorted(tup, reverse=True))"
   ]
  },
  {
   "cell_type": "code",
   "execution_count": 32,
   "metadata": {},
   "outputs": [
    {
     "name": "stdout",
     "output_type": "stream",
     "text": [
      "Reverse sorted Tuple = (5, 4, 3, 2, 1)\n"
     ]
    }
   ],
   "source": [
    "print(\"Reverse sorted Tuple = \" + str(reverse_sorted_tuple(tuple4)))"
   ]
  },
  {
   "cell_type": "code",
   "execution_count": 44,
   "metadata": {},
   "outputs": [],
   "source": [
    "# Nesting Tuple\n",
    "new_tuple = ((1, 2), (\"Hello\", \"ML\",\"Python\"),\n",
    "     (4.3, 5.7, 6.5, (\"Apple\", \"Strawberry\")),\n",
    "     (True, False))"
   ]
  },
  {
   "cell_type": "code",
   "execution_count": 53,
   "metadata": {},
   "outputs": [
    {
     "name": "stdout",
     "output_type": "stream",
     "text": [
      "('Hello', 'ML', 'Python')\n",
      "(True, False)\n",
      "Python\n",
      "Apple\n",
      "A\n"
     ]
    }
   ],
   "source": [
    "# access new_tuple\n",
    "print(new_tuple[1]) # output: ('Hello', 'ML', 'Python')\n",
    "print(new_tuple[-1]) # output: (True, False)\n",
    "\n",
    "print(new_tuple[1][2]) # output: Python\n",
    "\n",
    "print(new_tuple[2][3][0]) # output: Apple\n",
    "print(new_tuple[2][3][0][0]) # output: A"
   ]
  },
  {
   "cell_type": "code",
   "execution_count": 54,
   "metadata": {},
   "outputs": [],
   "source": [
    "# delete in tuple with example\n",
    "def delete_in_tuple_example():\n",
    "    \"\"\"\n",
    "    This function demonstrates how to delete an element from a tuple.\n",
    "    \"\"\"\n",
    "    # Create a tuple\n",
    "    my_tuple = (1, 2, 3, 4, 5)\n",
    "\n",
    "    # Convert the tuple to a list to allow modification\n",
    "    temp_list = list(my_tuple)\n",
    "\n",
    "    # Delete the element at index 2 (third element)\n",
    "    del temp_list[2]\n",
    "\n",
    "    # Convert the list back to a tuple\n",
    "    modified_tuple = tuple(temp_list)\n",
    "\n",
    "    print(\"Original tuple:\", my_tuple)\n",
    "    print(\"Modified tuple:\", modified_tuple)"
   ]
  },
  {
   "cell_type": "code",
   "execution_count": 55,
   "metadata": {},
   "outputs": [
    {
     "name": "stdout",
     "output_type": "stream",
     "text": [
      "Original tuple: (1, 2, 3, 4, 5)\n",
      "Modified tuple: (1, 2, 4, 5)\n"
     ]
    }
   ],
   "source": [
    "delete_in_tuple_example()"
   ]
  },
  {
   "cell_type": "code",
   "execution_count": null,
   "metadata": {},
   "outputs": [],
   "source": []
  }
 ],
 "metadata": {
  "kernelspec": {
   "display_name": "base",
   "language": "python",
   "name": "python3"
  },
  "language_info": {
   "codemirror_mode": {
    "name": "ipython",
    "version": 3
   },
   "file_extension": ".py",
   "mimetype": "text/x-python",
   "name": "python",
   "nbconvert_exporter": "python",
   "pygments_lexer": "ipython3",
   "version": "3.11.5"
  }
 },
 "nbformat": 4,
 "nbformat_minor": 2
}
