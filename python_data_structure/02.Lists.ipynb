{
 "cells": [
  {
   "cell_type": "markdown",
   "metadata": {},
   "source": [
    "# Lists\n",
    "#### - Lists are denoted by []\n",
    "#### - These are **ordered** sequences and **mutable**"
   ]
  },
  {
   "cell_type": "code",
   "execution_count": 1,
   "metadata": {},
   "outputs": [],
   "source": [
    "# 1. Write a Python program to sum all the items in a list.\n",
    "def sum_list(items):\n",
    "    sum_numbers = 0\n",
    "    for x in items:\n",
    "        sum_numbers += x\n",
    "    return sum_numbers"
   ]
  },
  {
   "cell_type": "code",
   "execution_count": 2,
   "metadata": {},
   "outputs": [
    {
     "name": "stdout",
     "output_type": "stream",
     "text": [
      "15\n"
     ]
    }
   ],
   "source": [
    "# List\n",
    "a = [1, 2, 3, 4, 5]\n",
    "print(sum_list(a))"
   ]
  },
  {
   "cell_type": "code",
   "execution_count": 8,
   "metadata": {},
   "outputs": [],
   "source": [
    "list_1 = [1, \"Hello\", 2.3, [\"Java\", \"Python\"], True]"
   ]
  },
  {
   "cell_type": "code",
   "execution_count": 12,
   "metadata": {},
   "outputs": [
    {
     "name": "stdout",
     "output_type": "stream",
     "text": [
      "5\n"
     ]
    }
   ],
   "source": [
    "print(len(list_1))      # output: 5"
   ]
  },
  {
   "cell_type": "code",
   "execution_count": 13,
   "metadata": {},
   "outputs": [
    {
     "name": "stdout",
     "output_type": "stream",
     "text": [
      "Python\n"
     ]
    }
   ],
   "source": [
    "print(list_1[3][1])     # output: Python"
   ]
  },
  {
   "cell_type": "code",
   "execution_count": 15,
   "metadata": {},
   "outputs": [
    {
     "name": "stdout",
     "output_type": "stream",
     "text": [
      "[2, 3, 4]\n"
     ]
    }
   ],
   "source": [
    "# Slicing list\n",
    "my_list = [1, 2, 3, 4, 5]\n",
    "sliced_list = my_list[1:4]  # Output: [2, 3, 4]\n",
    "print(sliced_list)"
   ]
  },
  {
   "cell_type": "code",
   "execution_count": 16,
   "metadata": {},
   "outputs": [],
   "source": [
    "# concatenate list\n",
    "def concatenate_list(list1, list2):\n",
    "    \"\"\"Concatenate two lists into one new list\"\"\"\n",
    "    \n",
    "    new_list = list1 + list2\n",
    "    return new_list"
   ]
  },
  {
   "cell_type": "code",
   "execution_count": 17,
   "metadata": {},
   "outputs": [
    {
     "name": "stdout",
     "output_type": "stream",
     "text": [
      "[1, 'Hello', 2.3, ['Java', 'Python'], True, 1, 2, 3, 4, 5]\n"
     ]
    }
   ],
   "source": [
    "addedList = concatenate_list(list_1, my_list)\n",
    "print(addedList)"
   ]
  },
  {
   "cell_type": "code",
   "execution_count": 18,
   "metadata": {},
   "outputs": [],
   "source": [
    "# extend list\n",
    "def extend_list(list1, list2):\n",
    "    \"\"\"\n",
    "    Extends the first list with the elements of the second list.\n",
    "    Returns the extended list.\n",
    "    \"\"\"\n",
    "    list1.extend(list2)\n",
    "    return list1"
   ]
  },
  {
   "cell_type": "code",
   "execution_count": 25,
   "metadata": {},
   "outputs": [
    {
     "name": "stdout",
     "output_type": "stream",
     "text": [
      "[4, 1, 6, 10, 'Grapes']\n"
     ]
    }
   ],
   "source": [
    "new_extend_list = extend_list([4, 1, 6], [10, \"Grapes\"])\n",
    "print(new_extend_list)"
   ]
  },
  {
   "cell_type": "code",
   "execution_count": 26,
   "metadata": {},
   "outputs": [],
   "source": [
    "# append list\n",
    "def append_list(list1, list2):\n",
    "    \"\"\"Append list2 to list1\"\"\"\n",
    "    \n",
    "    for item in list2:\n",
    "        list1.append(item)\n",
    "        \n",
    "    return list1"
   ]
  },
  {
   "cell_type": "code",
   "execution_count": 27,
   "metadata": {},
   "outputs": [
    {
     "name": "stdout",
     "output_type": "stream",
     "text": [
      "[4, 1, 6, 10, 'Grapes', 'Bye']\n"
     ]
    }
   ],
   "source": [
    "new_append_list = append_list(new_extend_list, [\"Bye\"])\n",
    "print(new_append_list)"
   ]
  },
  {
   "cell_type": "code",
   "execution_count": 28,
   "metadata": {},
   "outputs": [],
   "source": [
    "# extend vs append in list\n",
    "def extend_append_list():\n",
    "    # Create a list\n",
    "    prime_numbers = [2, 3, 5]\n",
    "    print(\"Original List:\", prime_numbers)\n",
    "\n",
    "    # Extend the list with another list\n",
    "    prime_numbers.extend([7, 11])\n",
    "    print(\"List after Extend:\", prime_numbers)\n",
    "\n",
    "    # Append a single element to the list\n",
    "    prime_numbers.append(13)\n",
    "    print(\"List after Append:\", prime_numbers)"
   ]
  },
  {
   "cell_type": "code",
   "execution_count": 29,
   "metadata": {},
   "outputs": [
    {
     "name": "stdout",
     "output_type": "stream",
     "text": [
      "Original List: [2, 3, 5]\n",
      "List after Extend: [2, 3, 5, 7, 11]\n",
      "List after Append: [2, 3, 5, 7, 11, 13]\n"
     ]
    }
   ],
   "source": [
    "extend_append_list()"
   ]
  },
  {
   "cell_type": "code",
   "execution_count": 30,
   "metadata": {},
   "outputs": [],
   "source": [
    "# delete in list with example\n",
    "def delete_in_list(example_list, index):\n",
    "    \"\"\"\n",
    "    Deletes an element from a list at the specified index.\n",
    "\n",
    "    Args:\n",
    "        example_list (list): The list from which an element needs to be deleted.\n",
    "        index (int): The index at which the element needs to be deleted.\n",
    "\n",
    "    Returns:\n",
    "        list: The modified list with the element at the specified index removed.\n",
    "    \"\"\"\n",
    "    if index < 0 or index >= len(example_list):\n",
    "        raise IndexError(\"Index out of range\")\n",
    "\n",
    "    new_list = example_list[:index] + example_list[index+1:]\n",
    "    return new_list"
   ]
  },
  {
   "cell_type": "code",
   "execution_count": 32,
   "metadata": {},
   "outputs": [
    {
     "name": "stdout",
     "output_type": "stream",
     "text": [
      "[4, 6, 10, 'Grapes', 'Bye']\n"
     ]
    }
   ],
   "source": [
    "print(delete_in_list(new_append_list, 1))"
   ]
  },
  {
   "cell_type": "code",
   "execution_count": 34,
   "metadata": {},
   "outputs": [
    {
     "name": "stdout",
     "output_type": "stream",
     "text": [
      "['Happy', 'Python']\n"
     ]
    }
   ],
   "source": [
    "# Split String to List\n",
    "str_list_1 = \"Happy Python\".split()\n",
    "print(str_list_1)"
   ]
  },
  {
   "cell_type": "code",
   "execution_count": 36,
   "metadata": {},
   "outputs": [
    {
     "name": "stdout",
     "output_type": "stream",
     "text": [
      "['A', 'B', 'C', 'D']\n"
     ]
    }
   ],
   "source": [
    "print(\"A,B,C,D\".split(\",\"))"
   ]
  },
  {
   "cell_type": "code",
   "execution_count": 37,
   "metadata": {},
   "outputs": [],
   "source": [
    "# List aliasing with example\n",
    "def list_aliasing():\n",
    "  # Create a list\n",
    "  my_list = [1, 2, 3, 4, 5]\n",
    "  \n",
    "  # Create an alias\n",
    "  alias = my_list\n",
    "  \n",
    "  # Modify the original list\n",
    "  my_list.append(6)\n",
    "  \n",
    "  # Print both lists\n",
    "  print(\"Original list:\", my_list)\n",
    "  print(\"Aliased list:\", alias)"
   ]
  },
  {
   "cell_type": "code",
   "execution_count": 38,
   "metadata": {},
   "outputs": [
    {
     "name": "stdout",
     "output_type": "stream",
     "text": [
      "Original list: [1, 2, 3, 4, 5, 6]\n",
      "Aliased list: [1, 2, 3, 4, 5, 6]\n"
     ]
    }
   ],
   "source": [
    "list_aliasing()"
   ]
  },
  {
   "cell_type": "code",
   "execution_count": 40,
   "metadata": {},
   "outputs": [
    {
     "name": "stdout",
     "output_type": "stream",
     "text": [
      "[1, 2, 3, 4, 5]\n"
     ]
    }
   ],
   "source": [
    "# cloning a list with example\n",
    "original_list = [1, 2, 3, 4, 5]\n",
    "new_list = original_list[:]\n",
    "print(new_list)\n"
   ]
  },
  {
   "cell_type": "code",
   "execution_count": null,
   "metadata": {},
   "outputs": [],
   "source": []
  }
 ],
 "metadata": {
  "kernelspec": {
   "display_name": "base",
   "language": "python",
   "name": "python3"
  },
  "language_info": {
   "codemirror_mode": {
    "name": "ipython",
    "version": 3
   },
   "file_extension": ".py",
   "mimetype": "text/x-python",
   "name": "python",
   "nbconvert_exporter": "python",
   "pygments_lexer": "ipython3",
   "version": "3.11.5"
  }
 },
 "nbformat": 4,
 "nbformat_minor": 2
}
