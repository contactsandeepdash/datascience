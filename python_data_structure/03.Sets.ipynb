{
 "cells": [
  {
   "cell_type": "markdown",
   "metadata": {},
   "source": [
    "# Sets\n",
    "#### - Set is denoted by {}\n",
    "#### - This is an **Unordered** \n",
    "#### - This contains only **unique** elements"
   ]
  },
  {
   "cell_type": "code",
   "execution_count": 70,
   "metadata": {},
   "outputs": [
    {
     "name": "stdout",
     "output_type": "stream",
     "text": [
      "{1, 2, 3, 4, 5}\n",
      "<class 'set'>\n"
     ]
    }
   ],
   "source": [
    "# sets\n",
    "# 1. Write a Python program to create a set.\n",
    "set1 = {1, 2, 3, 4, 5}\n",
    "print(set1)\n",
    "print(type(set1))"
   ]
  },
  {
   "cell_type": "code",
   "execution_count": 71,
   "metadata": {},
   "outputs": [
    {
     "name": "stdout",
     "output_type": "stream",
     "text": [
      "{1, 2, 3, 4, 5}\n",
      "<class 'set'>\n"
     ]
    }
   ],
   "source": [
    "# Creating a set from a list\n",
    "set2 = set([1, 2, 3, 4, 5])  # Creating a set from a list\n",
    "print(set2)\n",
    "print(type(set2))"
   ]
  },
  {
   "cell_type": "code",
   "execution_count": 72,
   "metadata": {},
   "outputs": [
    {
     "name": "stdout",
     "output_type": "stream",
     "text": [
      "{1, 2, 3, 4, 5}\n",
      "<class 'set'>\n"
     ]
    }
   ],
   "source": [
    "# Creating a set from a tuple\n",
    "set3 = set((1, 2, 3, 4, 5))  # Creating a set from a tuple\n",
    "print(set3)\n",
    "print(type(set3))"
   ]
  },
  {
   "cell_type": "code",
   "execution_count": 73,
   "metadata": {},
   "outputs": [
    {
     "name": "stdout",
     "output_type": "stream",
     "text": [
      "{'e', 'H', 'o', 'l'}\n",
      "<class 'set'>\n"
     ]
    }
   ],
   "source": [
    "# Creating a set from a string\n",
    "set4 = set(\"Hello\")  # Creating a set from a string\n",
    "print(set4)\n",
    "print(type(set4))"
   ]
  },
  {
   "cell_type": "code",
   "execution_count": 74,
   "metadata": {},
   "outputs": [
    {
     "name": "stdout",
     "output_type": "stream",
     "text": [
      "set()\n",
      "<class 'set'>\n"
     ]
    }
   ],
   "source": [
    "# Creating an empty set\n",
    "set5 = set()  # Creating an empty set\n",
    "print(set5)\n",
    "print(type(set5))"
   ]
  },
  {
   "cell_type": "code",
   "execution_count": 75,
   "metadata": {},
   "outputs": [
    {
     "name": "stdout",
     "output_type": "stream",
     "text": [
      "{1, 2, 3, 4, 5}\n",
      "<class 'set'>\n"
     ]
    }
   ],
   "source": [
    "# Creating a set from another set\n",
    "set6 = set({1, 2, 3, 4, 5})  # Creating a set from another set\n",
    "print(set6)\n",
    "print(type(set6))"
   ]
  },
  {
   "cell_type": "code",
   "execution_count": 76,
   "metadata": {},
   "outputs": [],
   "source": [
    "# add operation on Set with an example\n",
    "def add_set_example():\n",
    "    \"\"\"\n",
    "    Demonstrates the add operation on a Set in Python.\n",
    "    \"\"\"\n",
    "    fruits = {\"apple\", \"banana\", \"cherry\"}\n",
    "    print(\"Initial Set:\", fruits)\n",
    "\n",
    "    # Adding an element to the Set\n",
    "    fruits.add(\"orange\")\n",
    "    print(\"Set after adding 'orange':\", fruits)\n",
    "\n",
    "    # Adding an element that already exists (no effect)\n",
    "    fruits.add(\"apple\")\n",
    "    print(\"Set after adding 'apple' again:\", fruits)"
   ]
  },
  {
   "cell_type": "code",
   "execution_count": 77,
   "metadata": {},
   "outputs": [
    {
     "name": "stdout",
     "output_type": "stream",
     "text": [
      "Initial Set: {'apple', 'banana', 'cherry'}\n",
      "Set after adding 'orange': {'apple', 'banana', 'orange', 'cherry'}\n",
      "Set after adding 'apple' again: {'apple', 'banana', 'orange', 'cherry'}\n"
     ]
    }
   ],
   "source": [
    "add_set_example()"
   ]
  },
  {
   "cell_type": "code",
   "execution_count": 78,
   "metadata": {},
   "outputs": [],
   "source": [
    "# set union with an example\n",
    "def set_union_example():\n",
    "    set1 = {1, 2, 3, 4}\n",
    "    set2 = {3, 4, 5, 6}\n",
    "    set3 = set1.union(set2)\n",
    "    print(set3)"
   ]
  },
  {
   "cell_type": "code",
   "execution_count": 79,
   "metadata": {},
   "outputs": [
    {
     "name": "stdout",
     "output_type": "stream",
     "text": [
      "{1, 2, 3, 4, 5, 6}\n"
     ]
    }
   ],
   "source": [
    "set_union_example()"
   ]
  },
  {
   "cell_type": "code",
   "execution_count": 80,
   "metadata": {},
   "outputs": [],
   "source": [
    "# set intersection with an example\n",
    "def set_intersection_example():\n",
    "    set1 = {1, 2, 3, 4, 5}\n",
    "    set2 = {4, 5, 6, 7, 8}\n",
    "\n",
    "    # Find the intersection of two sets\n",
    "    intersection = set1.intersection(set2)\n",
    "\n",
    "    print(f\"Set 1: {set1}\")\n",
    "    print(f\"Set 2: {set2}\")\n",
    "    print(f\"Intersection of Set 1 and Set 2: {intersection}\")"
   ]
  },
  {
   "cell_type": "code",
   "execution_count": 81,
   "metadata": {},
   "outputs": [
    {
     "name": "stdout",
     "output_type": "stream",
     "text": [
      "Set 1: {1, 2, 3, 4, 5}\n",
      "Set 2: {4, 5, 6, 7, 8}\n",
      "Intersection of Set 1 and Set 2: {4, 5}\n"
     ]
    }
   ],
   "source": [
    "set_intersection_example()"
   ]
  },
  {
   "cell_type": "code",
   "execution_count": 82,
   "metadata": {},
   "outputs": [],
   "source": [
    "# set difference with an example\n",
    "def set_difference_example():\n",
    "    A = {1, 2, 3, 4, 5}\n",
    "    B = {4, 5, 6, 7, 8}\n",
    "\n",
    "    # Using the - operator to find the difference between two sets\n",
    "    difference = A - B\n",
    "\n",
    "    print(f\"Set A: {A}\")\n",
    "    print(f\"Set B: {B}\")\n",
    "    print(f\"Difference of A - B: {difference}\")"
   ]
  },
  {
   "cell_type": "code",
   "execution_count": 83,
   "metadata": {},
   "outputs": [
    {
     "name": "stdout",
     "output_type": "stream",
     "text": [
      "Set A: {1, 2, 3, 4, 5}\n",
      "Set B: {4, 5, 6, 7, 8}\n",
      "Difference of A - B: {1, 2, 3}\n"
     ]
    }
   ],
   "source": [
    "set_difference_example()"
   ]
  },
  {
   "cell_type": "code",
   "execution_count": 84,
   "metadata": {},
   "outputs": [],
   "source": [
    "# set isSubSet() with an example\n",
    "def is_subset(set1, set2):\n",
    "    \"\"\"\n",
    "    Checks if set1 is a subset of set2\n",
    "    \"\"\"\n",
    "    is_subset = set1.issubset(set2)\n",
    "    #print(is_subset)  # Output: True\n",
    "\n",
    "    return is_subset"
   ]
  },
  {
   "cell_type": "code",
   "execution_count": 85,
   "metadata": {},
   "outputs": [
    {
     "name": "stdout",
     "output_type": "stream",
     "text": [
      "example_set1 subsetOf example_set2 : True\n"
     ]
    }
   ],
   "source": [
    "example_set1 = {\"a\", \"b\"}\n",
    "example_set2 = {\"a\", \"b\", \"c\", \"d\"}\n",
    "print(\"example_set1 subsetOf example_set2 : \" + str(is_subset(example_set1, example_set2)))"
   ]
  },
  {
   "cell_type": "code",
   "execution_count": 86,
   "metadata": {},
   "outputs": [],
   "source": [
    "# set isSuperset() with an example\n",
    "def is_superset(set1, set2):\n",
    "    \"\"\"\n",
    "    Checks if the first set is a superset of the second set\n",
    "    \"\"\"\n",
    "    return set1.issuperset(set2)"
   ]
  },
  {
   "cell_type": "code",
   "execution_count": 87,
   "metadata": {},
   "outputs": [
    {
     "name": "stdout",
     "output_type": "stream",
     "text": [
      "example_set1 supersetOf example_set2 : False\n",
      "example_set2 supersetOf example_set1 : True\n"
     ]
    }
   ],
   "source": [
    "print(\"example_set1 supersetOf example_set2 : \" + str(is_superset(example_set1, example_set2)))\n",
    "print(\"example_set2 supersetOf example_set1 : \" + str(is_superset(example_set2, example_set1)))"
   ]
  },
  {
   "cell_type": "code",
   "execution_count": 88,
   "metadata": {},
   "outputs": [],
   "source": [
    "# set unpack example\n",
    "def set_unpack_example():\n",
    "    \"\"\"Unpacks a set into individual elements\"\"\"\n",
    "    \n",
    "    my_set = {'apple', 'banana', 'cherry'}\n",
    "    \n",
    "    # Unpack the set into individual elements\n",
    "    element1, element2, element3 = my_set\n",
    "    \n",
    "    print(element1) # Output: 'apple'\n",
    "    print(element2) # Output: 'banana' \n",
    "    print(element3) # Output: 'cherry'"
   ]
  },
  {
   "cell_type": "code",
   "execution_count": 89,
   "metadata": {},
   "outputs": [
    {
     "name": "stdout",
     "output_type": "stream",
     "text": [
      "apple\n",
      "banana\n",
      "cherry\n"
     ]
    }
   ],
   "source": [
    "set_unpack_example()"
   ]
  },
  {
   "cell_type": "code",
   "execution_count": 90,
   "metadata": {},
   "outputs": [
    {
     "name": "stdout",
     "output_type": "stream",
     "text": [
      "50 20 40 10 30\n"
     ]
    }
   ],
   "source": [
    "# unpacking\n",
    "set7 = {10, 20, 30, 40, 50}\n",
    "print(*set7)"
   ]
  },
  {
   "cell_type": "code",
   "execution_count": 91,
   "metadata": {},
   "outputs": [
    {
     "data": {
      "text/plain": [
       "{1, '30', '34', '40', '41', '42', '43', '44'}"
      ]
     },
     "execution_count": 91,
     "metadata": {},
     "output_type": "execute_result"
    }
   ],
   "source": [
    "from functools import reduce\n",
    "\n",
    "\n",
    "big = [[1, '34', '44'], [1, '40', '30', '41'], [1, '41', '40', '42'], [1, '42', '41', '43'], [1, '43', '42', '44'], [1, '44', '34', '43']]\n",
    "set(reduce ( lambda l,a : l + a, big))\n",
    "set([1, '44', '30', '42', '43', '40', '41', '34'])"
   ]
  },
  {
   "cell_type": "code",
   "execution_count": 92,
   "metadata": {},
   "outputs": [
    {
     "data": {
      "text/plain": [
       "[[1, '40', '30', '42', '44', '34', '43', '41']]"
      ]
     },
     "execution_count": 92,
     "metadata": {},
     "output_type": "execute_result"
    }
   ],
   "source": [
    "# result to be a list of a list as a final result\n",
    "[list(set(reduce ( lambda l,a : l + a, big)))]"
   ]
  },
  {
   "cell_type": "code",
   "execution_count": 93,
   "metadata": {},
   "outputs": [
    {
     "data": {
      "text/plain": [
       "[[1, '40', '30', '42', '44', '34', '43', '41']]"
      ]
     },
     "execution_count": 93,
     "metadata": {},
     "output_type": "execute_result"
    }
   ],
   "source": [
    "# NOT using lambda\n",
    "[list(set(reduce ( list.__add__, big)))]"
   ]
  },
  {
   "cell_type": "code",
   "execution_count": 94,
   "metadata": {},
   "outputs": [
    {
     "data": {
      "text/plain": [
       "[1, '40', '30', '42', '44', '34', '43', '41']"
      ]
     },
     "execution_count": 94,
     "metadata": {},
     "output_type": "execute_result"
    }
   ],
   "source": [
    "# another way - not using lambda\n",
    "list({x for _list in big for x in _list})"
   ]
  },
  {
   "cell_type": "code",
   "execution_count": null,
   "metadata": {},
   "outputs": [],
   "source": []
  }
 ],
 "metadata": {
  "kernelspec": {
   "display_name": "base",
   "language": "python",
   "name": "python3"
  },
  "language_info": {
   "codemirror_mode": {
    "name": "ipython",
    "version": 3
   },
   "file_extension": ".py",
   "mimetype": "text/x-python",
   "name": "python",
   "nbconvert_exporter": "python",
   "pygments_lexer": "ipython3",
   "version": "3.11.5"
  }
 },
 "nbformat": 4,
 "nbformat_minor": 2
}
